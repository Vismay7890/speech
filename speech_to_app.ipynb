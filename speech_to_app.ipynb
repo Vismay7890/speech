{
 "cells": [
  {
   "cell_type": "code",
   "execution_count": 1,
   "metadata": {},
   "outputs": [],
   "source": [
    "import speech_recognition as sr\n",
    "import webbrowser as wb"
   ]
  },
  {
   "cell_type": "code",
   "execution_count": 5,
   "metadata": {},
   "outputs": [],
   "source": [
    "def app():\n",
    "    # urL='https://www.google.com'\n",
    "    chrome_path=\"C:\\\\BrowserDriver\\\\chrome.exe\"\n",
    "    wb.register('chrome', None,wb.BackgroundBrowser(chrome_path))\n",
    "    recogn = sr.Recognizer()\n",
    "    with sr.Microphone() as source:\n",
    "        recogn.adjust_for_ambient_noise(source,duration = 1)\n",
    "        print(\"listening...\")\n",
    "        audio = recogn.listen(source , timeout = 3)\n",
    "        print(\"me-->\")\n",
    "        try:\n",
    "            dest = recogn.recognize_google(audio,language=\"en-US\")\n",
    "            dest =\"https://\"+ dest + \".com\"\n",
    "            wb.get().open_new_tab(dest)    \n",
    "            # wb.get(loc).open(dest)\n",
    "        except Exception as e:\n",
    "            print(\"ERROR:\" +str(e))\n",
    "    "
   ]
  },
  {
   "cell_type": "code",
   "execution_count": 9,
   "metadata": {},
   "outputs": [
    {
     "name": "stdout",
     "output_type": "stream",
     "text": [
      "listening...\n",
      "me-->\n",
      "result2:\n",
      "{   'alternative': [{'confidence': 0.88687539, 'transcript': 'Facebook'}],\n",
      "    'final': True}\n"
     ]
    }
   ],
   "source": [
    "if __name__ == '__main__':\n",
    "    app()"
   ]
  },
  {
   "cell_type": "code",
   "execution_count": null,
   "metadata": {},
   "outputs": [],
   "source": []
  },
  {
   "cell_type": "code",
   "execution_count": null,
   "metadata": {},
   "outputs": [],
   "source": []
  }
 ],
 "metadata": {
  "kernelspec": {
   "display_name": "venv37",
   "language": "python",
   "name": "python3"
  },
  "language_info": {
   "codemirror_mode": {
    "name": "ipython",
    "version": 3
   },
   "file_extension": ".py",
   "mimetype": "text/x-python",
   "name": "python",
   "nbconvert_exporter": "python",
   "pygments_lexer": "ipython3",
   "version": "3.7.0"
  },
  "orig_nbformat": 4,
  "vscode": {
   "interpreter": {
    "hash": "9352aa01c236883966f76d6480c39f28d609e740012573673bbe6a42f3d05d0a"
   }
  }
 },
 "nbformat": 4,
 "nbformat_minor": 2
}
